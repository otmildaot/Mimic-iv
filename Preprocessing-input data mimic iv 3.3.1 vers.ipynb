{
 "cells": [
  {
   "cell_type": "code",
   "execution_count": 1,
   "id": "75c43ed1-9880-4756-ae22-e8b9d7bae4d5",
   "metadata": {},
   "outputs": [],
   "source": [
    "import pandas as pd"
   ]
  },
  {
   "cell_type": "code",
   "execution_count": 2,
   "id": "40d365b5-e1d7-4a0d-a385-8e954b7d5220",
   "metadata": {},
   "outputs": [],
   "source": [
    "# Load necessary data files\n",
    "familyhistory_code = 'C:/Users/Alan Jose/Downloads/mimic-iv-3.1/mimic-iv-3.1/hosp/preprocess/sociodemographics/family_historycvd_icd.csv'\n",
    "admissions = 'C:/Users/Alan Jose/Downloads/mimic-iv-3.1/mimic-iv-3.1/hosp/preprocess/admissions.csv'"
   ]
  },
  {
   "cell_type": "code",
   "execution_count": 4,
   "id": "4d307a1a-2249-4058-acd0-3775993d5200",
   "metadata": {},
   "outputs": [
    {
     "name": "stdout",
     "output_type": "stream",
     "text": [
      "Merge selesai. Data disimpan dalam 'admission_with_family_group1.csv'.\n"
     ]
    }
   ],
   "source": [
    "#family history\n",
    "import pandas as pd\n",
    "\n",
    "# Load data\n",
    "admission_df = pd.read_csv(admissions)  # File admission\n",
    "icd_info_df = pd.read_csv(familyhistory_code)  # File berisi ICD dan grup CVD\n",
    "# Pisahkan icd_code yang berderet (explode)\n",
    "admission_df['icd_code'] = admission_df['icd_code'].astype(str)  # Pastikan format string\n",
    "admission_exploded = admission_df.assign(icd_code=admission_df['icd_code'].str.split(',')).explode('icd_code')\n",
    "\n",
    "# Merge dengan data icd_info berdasarkan icd_code\n",
    "merged_df = admission_exploded.merge(icd_info_df[['icd_code', 'group_code']], on='icd_code', how='left')\n",
    "\n",
    "# Gabungkan kembali icd_code dan cvd_group_code per subject_id dan hadm_id\n",
    "final_df = merged_df.groupby(['subject_id', 'hadm_id'], as_index=False).agg({\n",
    "    'icd_code': lambda x: ','.join(sorted(set(x.dropna().astype(str)))),  # Gabungkan semua ICD Code\n",
    "    'group_code': lambda x: ','.join(sorted(set(x.dropna().astype(str))))  # Gabungkan semua CVD Group Code\n",
    "})\n",
    "\n",
    "# Simpan hasilnya ke file baru\n",
    "final_df.to_csv(\"C:/Users/Alan Jose/Downloads/mimic-iv-3.1/mimic-iv-3.1/hosp/preprocess/admission_with_family_group1.csv\", index=False)\n",
    "\n",
    "print(\"Merge selesai. Data disimpan dalam 'admission_with_family_group1.csv'.\")\n"
   ]
  },
  {
   "cell_type": "code",
   "execution_count": 5,
   "id": "97aba287-479f-402d-b004-1551fc3e1ea0",
   "metadata": {},
   "outputs": [],
   "source": [
    "# Load necessary data files\n",
    "nutritionaldeficiencies_code = 'C:/Users/Alan Jose/Downloads/mimic-iv-3.1/mimic-iv-3.1/hosp/preprocess/lifestyle factors/nutritionaldeficiencies_icd.csv'\n",
    "obesity_code = 'C:/Users/Alan Jose/Downloads/mimic-iv-3.1/mimic-iv-3.1/hosp/preprocess/lifestyle factors/obesity_icd.csv'\n",
    "physicalinactive_code = 'C:/Users/Alan Jose/Downloads/mimic-iv-3.1/mimic-iv-3.1/hosp/preprocess/lifestyle factors/physicalinactive_icd.csv'\n",
    "tobacco_nicotine_code = 'C:/Users/Alan Jose/Downloads/mimic-iv-3.1/mimic-iv-3.1/hosp/preprocess/lifestyle factors/tobacco_nicotine_icd.csv'\n",
    "alcohol_code = 'C:/Users/Alan Jose/Downloads/mimic-iv-3.1/mimic-iv-3.1/hosp/preprocess/lifestyle factors/alcohol_icd.csv'"
   ]
  },
  {
   "cell_type": "code",
   "execution_count": 6,
   "id": "28efc8b1-97b9-42d4-aec5-8b9477445fe4",
   "metadata": {},
   "outputs": [
    {
     "name": "stdout",
     "output_type": "stream",
     "text": [
      "Merge selesai. Data disimpan dalam 'admission_with_nutritionaldeficiencies.csv'.\n"
     ]
    }
   ],
   "source": [
    "#nutritionaldeficiencies_code\n",
    "import pandas as pd\n",
    "\n",
    "# Load data\n",
    "admission_df = pd.read_csv(admissions)  # File admission\n",
    "icd_info_df = pd.read_csv(nutritionaldeficiencies_code)  # File berisi ICD dan grup CVD\n",
    "# Pisahkan icd_code yang berderet (explode)\n",
    "admission_df['icd_code'] = admission_df['icd_code'].astype(str)  # Pastikan format string\n",
    "admission_exploded = admission_df.assign(icd_code=admission_df['icd_code'].str.split(',')).explode('icd_code')\n",
    "\n",
    "# Merge dengan data icd_info berdasarkan icd_code\n",
    "merged_df = admission_exploded.merge(icd_info_df[['icd_code', 'group_code']], on='icd_code', how='left')\n",
    "\n",
    "# Gabungkan kembali icd_code dan cvd_group_code per subject_id dan hadm_id\n",
    "final_df = merged_df.groupby(['subject_id', 'hadm_id'], as_index=False).agg({\n",
    "    'icd_code': lambda x: ','.join(sorted(set(x.dropna().astype(str)))),  # Gabungkan semua ICD Code\n",
    "    'group_code': lambda x: ','.join(sorted(set(x.dropna().astype(str))))  # Gabungkan semua CVD Group Code\n",
    "})\n",
    "\n",
    "# Simpan hasilnya ke file baru\n",
    "final_df.to_csv(\"C:/Users/Alan Jose/Downloads/mimic-iv-3.1/mimic-iv-3.1/hosp/preprocess/admission_with_nutritionaldeficiencies.csv\", index=False)\n",
    "\n",
    "print(\"Merge selesai. Data disimpan dalam 'admission_with_nutritionaldeficiencies.csv'.\")\n"
   ]
  },
  {
   "cell_type": "code",
   "execution_count": 7,
   "id": "d59ab0f2-1112-4e76-8936-b4702484e2d0",
   "metadata": {},
   "outputs": [
    {
     "name": "stdout",
     "output_type": "stream",
     "text": [
      "Merge selesai. Data disimpan dalam 'admission_with_obesity.csv'.\n"
     ]
    }
   ],
   "source": [
    "#obesity_code\n",
    "import pandas as pd\n",
    "\n",
    "# Load data\n",
    "admission_df = pd.read_csv(admissions)  # File admission\n",
    "icd_info_df = pd.read_csv(obesity_code)  # File berisi ICD dan grup CVD\n",
    "# Pisahkan icd_code yang berderet (explode)\n",
    "admission_df['icd_code'] = admission_df['icd_code'].astype(str)  # Pastikan format string\n",
    "admission_exploded = admission_df.assign(icd_code=admission_df['icd_code'].str.split(',')).explode('icd_code')\n",
    "\n",
    "# Merge dengan data icd_info berdasarkan icd_code\n",
    "merged_df = admission_exploded.merge(icd_info_df[['icd_code', 'group_code']], on='icd_code', how='left')\n",
    "\n",
    "# Gabungkan kembali icd_code dan cvd_group_code per subject_id dan hadm_id\n",
    "final_df = merged_df.groupby(['subject_id', 'hadm_id'], as_index=False).agg({\n",
    "    'icd_code': lambda x: ','.join(sorted(set(x.dropna().astype(str)))),  # Gabungkan semua ICD Code\n",
    "    'group_code': lambda x: ','.join(sorted(set(x.dropna().astype(str))))  # Gabungkan semua CVD Group Code\n",
    "})\n",
    "\n",
    "# Simpan hasilnya ke file baru\n",
    "final_df.to_csv(\"C:/Users/Alan Jose/Downloads/mimic-iv-3.1/mimic-iv-3.1/hosp/preprocess/admission_with_obesity.csv\", index=False)\n",
    "\n",
    "print(\"Merge selesai. Data disimpan dalam 'admission_with_obesity.csv'.\")\n"
   ]
  },
  {
   "cell_type": "code",
   "execution_count": 8,
   "id": "b3a911a2-c947-4bba-bcf3-ebfe852dbccd",
   "metadata": {},
   "outputs": [
    {
     "name": "stdout",
     "output_type": "stream",
     "text": [
      "Merge selesai. Data disimpan dalam 'admission_with_physicalinactive.csv'.\n"
     ]
    }
   ],
   "source": [
    "#physicalinactive_code\n",
    "import pandas as pd\n",
    "\n",
    "# Load data\n",
    "admission_df = pd.read_csv(admissions)  # File admission\n",
    "icd_info_df = pd.read_csv(physicalinactive_code)  # File berisi ICD dan grup CVD\n",
    "# Pisahkan icd_code yang berderet (explode)\n",
    "admission_df['icd_code'] = admission_df['icd_code'].astype(str)  # Pastikan format string\n",
    "admission_exploded = admission_df.assign(icd_code=admission_df['icd_code'].str.split(',')).explode('icd_code')\n",
    "\n",
    "# Merge dengan data icd_info berdasarkan icd_code\n",
    "merged_df = admission_exploded.merge(icd_info_df[['icd_code', 'group_code']], on='icd_code', how='left')\n",
    "\n",
    "# Gabungkan kembali icd_code dan cvd_group_code per subject_id dan hadm_id\n",
    "final_df = merged_df.groupby(['subject_id', 'hadm_id'], as_index=False).agg({\n",
    "    'icd_code': lambda x: ','.join(sorted(set(x.dropna().astype(str)))),  # Gabungkan semua ICD Code\n",
    "    'group_code': lambda x: ','.join(sorted(set(x.dropna().astype(str))))  # Gabungkan semua CVD Group Code\n",
    "})\n",
    "\n",
    "# Simpan hasilnya ke file baru\n",
    "final_df.to_csv(\"C:/Users/Alan Jose/Downloads/mimic-iv-3.1/mimic-iv-3.1/hosp/preprocess/admission_with_physicalinactive.csv\", index=False)\n",
    "\n",
    "print(\"Merge selesai. Data disimpan dalam 'admission_with_physicalinactive.csv'.\")\n"
   ]
  },
  {
   "cell_type": "code",
   "execution_count": 9,
   "id": "b92f9a89-07bc-4099-b9a7-39646870e54d",
   "metadata": {},
   "outputs": [
    {
     "name": "stdout",
     "output_type": "stream",
     "text": [
      "Merge selesai. Data disimpan dalam 'admission_with_tobacco_nicotine.csv'.\n"
     ]
    }
   ],
   "source": [
    "#tobacco_nicotine_code\n",
    "import pandas as pd\n",
    "\n",
    "# Load data\n",
    "admission_df = pd.read_csv(admissions)  # File admission\n",
    "icd_info_df = pd.read_csv(tobacco_nicotine_code)  # File berisi ICD dan grup CVD\n",
    "# Pisahkan icd_code yang berderet (explode)\n",
    "admission_df['icd_code'] = admission_df['icd_code'].astype(str)  # Pastikan format string\n",
    "admission_exploded = admission_df.assign(icd_code=admission_df['icd_code'].str.split(',')).explode('icd_code')\n",
    "\n",
    "# Merge dengan data icd_info berdasarkan icd_code\n",
    "merged_df = admission_exploded.merge(icd_info_df[['icd_code', 'group_code']], on='icd_code', how='left')\n",
    "\n",
    "# Gabungkan kembali icd_code dan cvd_group_code per subject_id dan hadm_id\n",
    "final_df = merged_df.groupby(['subject_id', 'hadm_id'], as_index=False).agg({\n",
    "    'icd_code': lambda x: ','.join(sorted(set(x.dropna().astype(str)))),  # Gabungkan semua ICD Code\n",
    "    'group_code': lambda x: ','.join(sorted(set(x.dropna().astype(str))))  # Gabungkan semua CVD Group Code\n",
    "})\n",
    "\n",
    "# Simpan hasilnya ke file baru\n",
    "final_df.to_csv(\"C:/Users/Alan Jose/Downloads/mimic-iv-3.1/mimic-iv-3.1/hosp/preprocess/admission_with_tobacco_nicotine.csv\", index=False)\n",
    "\n",
    "print(\"Merge selesai. Data disimpan dalam 'admission_with_tobacco_nicotine.csv'.\")"
   ]
  },
  {
   "cell_type": "code",
   "execution_count": 10,
   "id": "002436c3-0959-40cb-915f-1beceaef6bfb",
   "metadata": {},
   "outputs": [
    {
     "name": "stdout",
     "output_type": "stream",
     "text": [
      "Merge selesai. Data disimpan dalam 'admission_with_alcohol.csv'.\n"
     ]
    }
   ],
   "source": [
    "#alcohol_code\n",
    "import pandas as pd\n",
    "\n",
    "# Load data\n",
    "admission_df = pd.read_csv(admissions)  # File admission\n",
    "icd_info_df = pd.read_csv(alcohol_code)  # File berisi ICD dan grup CVD\n",
    "# Pisahkan icd_code yang berderet (explode)\n",
    "admission_df['icd_code'] = admission_df['icd_code'].astype(str)  # Pastikan format string\n",
    "admission_exploded = admission_df.assign(icd_code=admission_df['icd_code'].str.split(',')).explode('icd_code')\n",
    "\n",
    "# Merge dengan data icd_info berdasarkan icd_code\n",
    "merged_df = admission_exploded.merge(icd_info_df[['icd_code', 'group_code']], on='icd_code', how='left')\n",
    "\n",
    "# Gabungkan kembali icd_code dan cvd_group_code per subject_id dan hadm_id\n",
    "final_df = merged_df.groupby(['subject_id', 'hadm_id'], as_index=False).agg({\n",
    "    'icd_code': lambda x: ','.join(sorted(set(x.dropna().astype(str)))),  # Gabungkan semua ICD Code\n",
    "    'group_code': lambda x: ','.join(sorted(set(x.dropna().astype(str))))  # Gabungkan semua CVD Group Code\n",
    "})\n",
    "\n",
    "# Simpan hasilnya ke file baru\n",
    "final_df.to_csv(\"C:/Users/Alan Jose/Downloads/mimic-iv-3.1/mimic-iv-3.1/hosp/preprocess/admission_with_alcohol.csv\", index=False)\n",
    "\n",
    "print(\"Merge selesai. Data disimpan dalam 'admission_with_alcohol.csv'.\")"
   ]
  },
  {
   "cell_type": "code",
   "execution_count": 11,
   "id": "9b161cdc-fb89-4516-a5c3-be05f7084fae",
   "metadata": {},
   "outputs": [],
   "source": [
    "# Load necessary data files\n",
    "autoimmune_code = 'C:/Users/Alan Jose/Downloads/mimic-iv-3.1/mimic-iv-3.1/hosp/preprocess/cid/autoimmune_icd.csv'\n",
    "hiv_code = 'C:/Users/Alan Jose/Downloads/mimic-iv-3.1/mimic-iv-3.1/hosp/preprocess/cid/hiv_icd.csv'"
   ]
  },
  {
   "cell_type": "code",
   "execution_count": 12,
   "id": "3960c333-cd3f-491b-91cf-9fa51c313d5a",
   "metadata": {},
   "outputs": [
    {
     "name": "stdout",
     "output_type": "stream",
     "text": [
      "Merge selesai. Data disimpan dalam 'admission_with_hiv.csv'.\n"
     ]
    }
   ],
   "source": [
    "#hiv_code\n",
    "import pandas as pd\n",
    "\n",
    "# Load data\n",
    "admission_df = pd.read_csv(admissions)  # File admission\n",
    "icd_info_df = pd.read_csv(hiv_code)  # File berisi ICD dan grup CVD\n",
    "# Pisahkan icd_code yang berderet (explode)\n",
    "admission_df['icd_code'] = admission_df['icd_code'].astype(str)  # Pastikan format string\n",
    "admission_exploded = admission_df.assign(icd_code=admission_df['icd_code'].str.split(',')).explode('icd_code')\n",
    "\n",
    "# Merge dengan data icd_info berdasarkan icd_code\n",
    "merged_df = admission_exploded.merge(icd_info_df[['icd_code', 'group_code']], on='icd_code', how='left')\n",
    "\n",
    "# Gabungkan kembali icd_code dan cvd_group_code per subject_id dan hadm_id\n",
    "final_df = merged_df.groupby(['subject_id', 'hadm_id'], as_index=False).agg({\n",
    "    'icd_code': lambda x: ','.join(sorted(set(x.dropna().astype(str)))),  # Gabungkan semua ICD Code\n",
    "    'group_code': lambda x: ','.join(sorted(set(x.dropna().astype(str))))  # Gabungkan semua CVD Group Code\n",
    "})\n",
    "\n",
    "# Simpan hasilnya ke file baru\n",
    "final_df.to_csv(\"C:/Users/Alan Jose/Downloads/mimic-iv-3.1/mimic-iv-3.1/hosp/preprocess/admission_with_hiv.csv\", index=False)\n",
    "\n",
    "print(\"Merge selesai. Data disimpan dalam 'admission_with_hiv.csv'.\")"
   ]
  },
  {
   "cell_type": "code",
   "execution_count": 22,
   "id": "0acdef30-93ca-4a73-a24b-5d931f8bdbfa",
   "metadata": {},
   "outputs": [
    {
     "name": "stdout",
     "output_type": "stream",
     "text": [
      "Merge selesai. Data disimpan dalam 'admission_with_autoimmune.csv'.\n"
     ]
    }
   ],
   "source": [
    "#autoimmune_code\n",
    "import pandas as pd\n",
    "\n",
    "# Load data\n",
    "admission_df = pd.read_csv(admissions)  # File admission\n",
    "icd_info_df = pd.read_csv(autoimmune_code)  # File berisi ICD dan grup CVD\n",
    "# Pisahkan icd_code yang berderet (explode)\n",
    "admission_df['icd_code'] = admission_df['icd_code'].astype(str)  # Pastikan format string\n",
    "admission_exploded = admission_df.assign(icd_code=admission_df['icd_code'].str.split(',')).explode('icd_code')\n",
    "\n",
    "# Merge dengan data icd_info berdasarkan icd_code\n",
    "merged_df = admission_exploded.merge(icd_info_df[['icd_code', 'group_code']], on='icd_code', how='left')\n",
    "\n",
    "# Gabungkan kembali icd_code dan cvd_group_code per subject_id dan hadm_id\n",
    "final_df = merged_df.groupby(['subject_id', 'hadm_id'], as_index=False).agg({\n",
    "    'icd_code': lambda x: ','.join(sorted(set(x.dropna().astype(str)))),  # Gabungkan semua ICD Code\n",
    "    'group_code': lambda x: ','.join(sorted(set(x.dropna().astype(str))))  # Gabungkan semua CVD Group Code\n",
    "})\n",
    "\n",
    "# Simpan hasilnya ke file baru\n",
    "final_df.to_csv(\"C:/Users/Alan Jose/Downloads/mimic-iv-3.1/mimic-iv-3.1/hosp/preprocess/admission_with_autoimmune.csv\", index=False)\n",
    "\n",
    "print(\"Merge selesai. Data disimpan dalam 'admission_with_autoimmune.csv'.\")"
   ]
  },
  {
   "cell_type": "code",
   "execution_count": 18,
   "id": "0ff5257b-b42d-4075-9240-398be0b9067e",
   "metadata": {},
   "outputs": [],
   "source": [
    "# Load necessary data files\n",
    "hypertension_code = 'C:/Users/Alan Jose/Downloads/mimic-iv-3.1/mimic-iv-3.1/hosp/preprocess/comorbid/hypertension_icd.csv'\n",
    "diabet_code = 'C:/Users/Alan Jose/Downloads/mimic-iv-3.1/mimic-iv-3.1/hosp/preprocess/comorbid/diabetes2_icd.csv'\n",
    "cancer_code = 'C:/Users/Alan Jose/Downloads/mimic-iv-3.1/mimic-iv-3.1/hosp/preprocess/comorbid/malig_icd.csv'\n",
    "ckd_code = 'C:/Users/Alan Jose/Downloads/mimic-iv-3.1/mimic-iv-3.1/hosp/preprocess/comorbid/ckd_icd.csv'\n",
    "pulmo_code = 'C:/Users/Alan Jose/Downloads/mimic-iv-3.1/mimic-iv-3.1/hosp/preprocess/comorbid/pulmo_icd.csv'\n",
    "hypotension_code = 'C:/Users/Alan Jose/Downloads/mimic-iv-3.1/mimic-iv-3.1/hosp/preprocess/comorbid/hypotension_code.csv'\n",
    "hyperaldos_code = 'C:/Users/Alan Jose/Downloads/mimic-iv-3.1/mimic-iv-3.1/hosp/preprocess/comorbid/hyperaldo_icd.csv'\n",
    "chol_code = 'C:/Users/Alan Jose/Downloads/mimic-iv-3.1/mimic-iv-3.1/hosp/preprocess/comorbid/cholesterol_icd.csv'"
   ]
  },
  {
   "cell_type": "code",
   "execution_count": 15,
   "id": "1cf3349e-0555-4807-b01d-fd6a580084f5",
   "metadata": {},
   "outputs": [
    {
     "name": "stdout",
     "output_type": "stream",
     "text": [
      "Merge selesai. Data disimpan dalam 'admission_with_hypertension.csv'.\n"
     ]
    }
   ],
   "source": [
    "#hypertension_code\n",
    "import pandas as pd\n",
    "\n",
    "# Load data\n",
    "admission_df = pd.read_csv(admissions)  # File admission\n",
    "icd_info_df = pd.read_csv(hypertension_code)  # File berisi ICD dan grup CVD\n",
    "# Pisahkan icd_code yang berderet (explode)\n",
    "admission_df['icd_code'] = admission_df['icd_code'].astype(str)  # Pastikan format string\n",
    "admission_exploded = admission_df.assign(icd_code=admission_df['icd_code'].str.split(',')).explode('icd_code')\n",
    "\n",
    "# Merge dengan data icd_info berdasarkan icd_code\n",
    "merged_df = admission_exploded.merge(icd_info_df[['icd_code', 'group_code']], on='icd_code', how='left')\n",
    "\n",
    "# Gabungkan kembali icd_code dan cvd_group_code per subject_id dan hadm_id\n",
    "final_df = merged_df.groupby(['subject_id', 'hadm_id'], as_index=False).agg({\n",
    "    'icd_code': lambda x: ','.join(sorted(set(x.dropna().astype(str)))),  # Gabungkan semua ICD Code\n",
    "    'group_code': lambda x: ','.join(sorted(set(x.dropna().astype(str))))  # Gabungkan semua CVD Group Code\n",
    "})\n",
    "\n",
    "# Simpan hasilnya ke file baru\n",
    "final_df.to_csv(\"C:/Users/Alan Jose/Downloads/mimic-iv-3.1/mimic-iv-3.1/hosp/preprocess/admission_with_hypertension.csv\", index=False)\n",
    "\n",
    "print(\"Merge selesai. Data disimpan dalam 'admission_with_hypertension.csv'.\")"
   ]
  },
  {
   "cell_type": "code",
   "execution_count": 16,
   "id": "e2817310-9cda-4d05-9654-09ce0d851905",
   "metadata": {},
   "outputs": [
    {
     "name": "stdout",
     "output_type": "stream",
     "text": [
      "Merge selesai. Data disimpan dalam 'admission_with_diabet.csv'.\n"
     ]
    }
   ],
   "source": [
    "#diabet_code\n",
    "import pandas as pd\n",
    "\n",
    "# Load data\n",
    "admission_df = pd.read_csv(admissions)  # File admission\n",
    "icd_info_df = pd.read_csv(diabet_code)  # File berisi ICD dan grup CVD\n",
    "# Pisahkan icd_code yang berderet (explode)\n",
    "admission_df['icd_code'] = admission_df['icd_code'].astype(str)  # Pastikan format string\n",
    "admission_exploded = admission_df.assign(icd_code=admission_df['icd_code'].str.split(',')).explode('icd_code')\n",
    "\n",
    "# Merge dengan data icd_info berdasarkan icd_code\n",
    "merged_df = admission_exploded.merge(icd_info_df[['icd_code', 'group_code']], on='icd_code', how='left')\n",
    "\n",
    "# Gabungkan kembali icd_code dan cvd_group_code per subject_id dan hadm_id\n",
    "final_df = merged_df.groupby(['subject_id', 'hadm_id'], as_index=False).agg({\n",
    "    'icd_code': lambda x: ','.join(sorted(set(x.dropna().astype(str)))),  # Gabungkan semua ICD Code\n",
    "    'group_code': lambda x: ','.join(sorted(set(x.dropna().astype(str))))  # Gabungkan semua CVD Group Code\n",
    "})\n",
    "\n",
    "# Simpan hasilnya ke file baru\n",
    "final_df.to_csv(\"C:/Users/Alan Jose/Downloads/mimic-iv-3.1/mimic-iv-3.1/hosp/preprocess/admission_with_diabet.csv\", index=False)\n",
    "\n",
    "print(\"Merge selesai. Data disimpan dalam 'admission_with_diabet.csv'.\")"
   ]
  },
  {
   "cell_type": "code",
   "execution_count": 19,
   "id": "4e4592ce-5f9e-43fe-a2e3-be251f6ba4d0",
   "metadata": {},
   "outputs": [
    {
     "name": "stdout",
     "output_type": "stream",
     "text": [
      "Merge selesai. Data disimpan dalam 'admission_with_cancer.csv'.\n"
     ]
    }
   ],
   "source": [
    "#cancer_code\n",
    "import pandas as pd\n",
    "\n",
    "# Load data\n",
    "admission_df = pd.read_csv(admissions)  # File admission\n",
    "icd_info_df = pd.read_csv(cancer_code)  # File berisi ICD dan grup CVD\n",
    "# Pisahkan icd_code yang berderet (explode)\n",
    "admission_df['icd_code'] = admission_df['icd_code'].astype(str)  # Pastikan format string\n",
    "admission_exploded = admission_df.assign(icd_code=admission_df['icd_code'].str.split(',')).explode('icd_code')\n",
    "\n",
    "# Merge dengan data icd_info berdasarkan icd_code\n",
    "merged_df = admission_exploded.merge(icd_info_df[['icd_code', 'group_code']], on='icd_code', how='left')\n",
    "\n",
    "# Gabungkan kembali icd_code dan cvd_group_code per subject_id dan hadm_id\n",
    "final_df = merged_df.groupby(['subject_id', 'hadm_id'], as_index=False).agg({\n",
    "    'icd_code': lambda x: ','.join(sorted(set(x.dropna().astype(str)))),  # Gabungkan semua ICD Code\n",
    "    'group_code': lambda x: ','.join(sorted(set(x.dropna().astype(str))))  # Gabungkan semua CVD Group Code\n",
    "})\n",
    "\n",
    "# Simpan hasilnya ke file baru\n",
    "final_df.to_csv(\"C:/Users/Alan Jose/Downloads/mimic-iv-3.1/mimic-iv-3.1/hosp/preprocess/admission_with_cancer.csv\", index=False)\n",
    "\n",
    "print(\"Merge selesai. Data disimpan dalam 'admission_with_cancer.csv'.\")"
   ]
  },
  {
   "cell_type": "code",
   "execution_count": 20,
   "id": "74113646-8124-4e5c-ba5c-0405ace1cd79",
   "metadata": {},
   "outputs": [
    {
     "name": "stdout",
     "output_type": "stream",
     "text": [
      "Merge selesai. Data disimpan dalam 'admission_with_ckd.csv'.\n"
     ]
    }
   ],
   "source": [
    "#ckd_code\n",
    "import pandas as pd\n",
    "\n",
    "# Load data\n",
    "admission_df = pd.read_csv(admissions)  # File admission\n",
    "icd_info_df = pd.read_csv(ckd_code)  # File berisi ICD dan grup CVD\n",
    "# Pisahkan icd_code yang berderet (explode)\n",
    "admission_df['icd_code'] = admission_df['icd_code'].astype(str)  # Pastikan format string\n",
    "admission_exploded = admission_df.assign(icd_code=admission_df['icd_code'].str.split(',')).explode('icd_code')\n",
    "\n",
    "# Merge dengan data icd_info berdasarkan icd_code\n",
    "merged_df = admission_exploded.merge(icd_info_df[['icd_code', 'group_code']], on='icd_code', how='left')\n",
    "\n",
    "# Gabungkan kembali icd_code dan cvd_group_code per subject_id dan hadm_id\n",
    "final_df = merged_df.groupby(['subject_id', 'hadm_id'], as_index=False).agg({\n",
    "    'icd_code': lambda x: ','.join(sorted(set(x.dropna().astype(str)))),  # Gabungkan semua ICD Code\n",
    "    'group_code': lambda x: ','.join(sorted(set(x.dropna().astype(str))))  # Gabungkan semua CVD Group Code\n",
    "})\n",
    "\n",
    "# Simpan hasilnya ke file baru\n",
    "final_df.to_csv(\"C:/Users/Alan Jose/Downloads/mimic-iv-3.1/mimic-iv-3.1/hosp/preprocess/admission_with_ckd.csv\", index=False)\n",
    "\n",
    "print(\"Merge selesai. Data disimpan dalam 'admission_with_ckd.csv'.\")"
   ]
  },
  {
   "cell_type": "code",
   "execution_count": 21,
   "id": "94cad390-c4bf-4287-9009-c311fa2ea2ee",
   "metadata": {},
   "outputs": [
    {
     "name": "stdout",
     "output_type": "stream",
     "text": [
      "Merge selesai. Data disimpan dalam 'admission_with_pulmo.csv'.\n"
     ]
    }
   ],
   "source": [
    "#pulmo_code\n",
    "import pandas as pd\n",
    "\n",
    "# Load data\n",
    "admission_df = pd.read_csv(admissions)  # File admission\n",
    "icd_info_df = pd.read_csv(pulmo_code)  # File berisi ICD dan grup CVD\n",
    "# Pisahkan icd_code yang berderet (explode)\n",
    "admission_df['icd_code'] = admission_df['icd_code'].astype(str)  # Pastikan format string\n",
    "admission_exploded = admission_df.assign(icd_code=admission_df['icd_code'].str.split(',')).explode('icd_code')\n",
    "\n",
    "# Merge dengan data icd_info berdasarkan icd_code\n",
    "merged_df = admission_exploded.merge(icd_info_df[['icd_code', 'group_code']], on='icd_code', how='left')\n",
    "\n",
    "# Gabungkan kembali icd_code dan cvd_group_code per subject_id dan hadm_id\n",
    "final_df = merged_df.groupby(['subject_id', 'hadm_id'], as_index=False).agg({\n",
    "    'icd_code': lambda x: ','.join(sorted(set(x.dropna().astype(str)))),  # Gabungkan semua ICD Code\n",
    "    'group_code': lambda x: ','.join(sorted(set(x.dropna().astype(str))))  # Gabungkan semua CVD Group Code\n",
    "})\n",
    "\n",
    "# Simpan hasilnya ke file baru\n",
    "final_df.to_csv(\"C:/Users/Alan Jose/Downloads/mimic-iv-3.1/mimic-iv-3.1/hosp/preprocess/admission_with_pulmo.csv\", index=False)\n",
    "\n",
    "print(\"Merge selesai. Data disimpan dalam 'admission_with_pulmo.csv'.\")"
   ]
  },
  {
   "cell_type": "code",
   "execution_count": null,
   "id": "0f1e55df-d60b-42cf-a56e-977bc03b6069",
   "metadata": {},
   "outputs": [],
   "source": [
    "#hypotension_code\n",
    "import pandas as pd\n",
    "\n",
    "# Load data\n",
    "admission_df = pd.read_csv(admissions)  # File admission\n",
    "icd_info_df = pd.read_csv(hypotension_code)  # File berisi ICD dan grup CVD\n",
    "# Pisahkan icd_code yang berderet (explode)\n",
    "admission_df['icd_code'] = admission_df['icd_code'].astype(str)  # Pastikan format string\n",
    "admission_exploded = admission_df.assign(icd_code=admission_df['icd_code'].str.split(',')).explode('icd_code')\n",
    "\n",
    "# Merge dengan data icd_info berdasarkan icd_code\n",
    "merged_df = admission_exploded.merge(icd_info_df[['icd_code', 'group_code']], on='icd_code', how='left')\n",
    "\n",
    "# Gabungkan kembali icd_code dan cvd_group_code per subject_id dan hadm_id\n",
    "final_df = merged_df.groupby(['subject_id', 'hadm_id'], as_index=False).agg({\n",
    "    'icd_code': lambda x: ','.join(sorted(set(x.dropna().astype(str)))),  # Gabungkan semua ICD Code\n",
    "    'group_code': lambda x: ','.join(sorted(set(x.dropna().astype(str))))  # Gabungkan semua CVD Group Code\n",
    "})\n",
    "\n",
    "# Simpan hasilnya ke file baru\n",
    "final_df.to_csv(\"C:/Users/Alan Jose/Downloads/mimic-iv-3.1/mimic-iv-3.1/hosp/preprocess/admission_with_hypotension.csv\", index=False)\n",
    "\n",
    "print(\"Merge selesai. Data disimpan dalam 'admission_with_hypotension.csv'.\")"
   ]
  },
  {
   "cell_type": "code",
   "execution_count": 22,
   "id": "091da13f-1300-421c-971f-09156b362eba",
   "metadata": {},
   "outputs": [
    {
     "name": "stdout",
     "output_type": "stream",
     "text": [
      "Merge selesai. Data disimpan dalam 'admission_with_hyperaldos.csv'.\n"
     ]
    }
   ],
   "source": [
    "#hyperaldos_code\n",
    "import pandas as pd\n",
    "\n",
    "# Load data\n",
    "admission_df = pd.read_csv(admissions)  # File admission\n",
    "icd_info_df = pd.read_csv(hyperaldos_code)  # File berisi ICD dan grup CVD\n",
    "# Pisahkan icd_code yang berderet (explode)\n",
    "admission_df['icd_code'] = admission_df['icd_code'].astype(str)  # Pastikan format string\n",
    "admission_exploded = admission_df.assign(icd_code=admission_df['icd_code'].str.split(',')).explode('icd_code')\n",
    "\n",
    "# Merge dengan data icd_info berdasarkan icd_code\n",
    "merged_df = admission_exploded.merge(icd_info_df[['icd_code', 'group_code']], on='icd_code', how='left')\n",
    "\n",
    "# Gabungkan kembali icd_code dan cvd_group_code per subject_id dan hadm_id\n",
    "final_df = merged_df.groupby(['subject_id', 'hadm_id'], as_index=False).agg({\n",
    "    'icd_code': lambda x: ','.join(sorted(set(x.dropna().astype(str)))),  # Gabungkan semua ICD Code\n",
    "    'group_code': lambda x: ','.join(sorted(set(x.dropna().astype(str))))  # Gabungkan semua CVD Group Code\n",
    "})\n",
    "\n",
    "# Simpan hasilnya ke file baru\n",
    "final_df.to_csv(\"C:/Users/Alan Jose/Downloads/mimic-iv-3.1/mimic-iv-3.1/hosp/preprocess/admission_with_hyperaldos.csv\", index=False)\n",
    "\n",
    "print(\"Merge selesai. Data disimpan dalam 'admission_with_hyperaldos.csv'.\")"
   ]
  },
  {
   "cell_type": "code",
   "execution_count": 23,
   "id": "f48cfbe7-ce2b-4f97-b2ae-91c70585960c",
   "metadata": {},
   "outputs": [
    {
     "name": "stdout",
     "output_type": "stream",
     "text": [
      "Merge selesai. Data disimpan dalam 'admission_with_chol.csv'.\n"
     ]
    }
   ],
   "source": [
    "#chol_code\n",
    "import pandas as pd\n",
    "\n",
    "# Load data\n",
    "admission_df = pd.read_csv(admissions)  # File admission\n",
    "icd_info_df = pd.read_csv(chol_code)  # File berisi ICD dan grup CVD\n",
    "# Pisahkan icd_code yang berderet (explode)\n",
    "admission_df['icd_code'] = admission_df['icd_code'].astype(str)  # Pastikan format string\n",
    "admission_exploded = admission_df.assign(icd_code=admission_df['icd_code'].str.split(',')).explode('icd_code')\n",
    "\n",
    "# Merge dengan data icd_info berdasarkan icd_code\n",
    "merged_df = admission_exploded.merge(icd_info_df[['icd_code', 'group_code']], on='icd_code', how='left')\n",
    "\n",
    "# Gabungkan kembali icd_code dan cvd_group_code per subject_id dan hadm_id\n",
    "final_df = merged_df.groupby(['subject_id', 'hadm_id'], as_index=False).agg({\n",
    "    'icd_code': lambda x: ','.join(sorted(set(x.dropna().astype(str)))),  # Gabungkan semua ICD Code\n",
    "    'group_code': lambda x: ','.join(sorted(set(x.dropna().astype(str))))  # Gabungkan semua CVD Group Code\n",
    "})\n",
    "\n",
    "# Simpan hasilnya ke file baru\n",
    "final_df.to_csv(\"C:/Users/Alan Jose/Downloads/mimic-iv-3.1/mimic-iv-3.1/hosp/preprocess/admission_with_chol.csv\", index=False)\n",
    "\n",
    "print(\"Merge selesai. Data disimpan dalam 'admission_with_chol.csv'.\")"
   ]
  },
  {
   "cell_type": "code",
   "execution_count": 24,
   "id": "d728b33b-f628-42ea-8fc4-5cc7534030f5",
   "metadata": {},
   "outputs": [],
   "source": [
    "# Load necessary data files\n",
    "osteoporosis_code = 'C:/Users/Alan Jose/Downloads/mimic-iv-3.1/mimic-iv-3.1/hosp/preprocess/other medical/osteoporosis_icd.csv'\n",
    "mental_code = 'C:/Users/Alan Jose/Downloads/mimic-iv-3.1/mimic-iv-3.1/hosp/preprocess/other medical/mental_icd.csv'\n",
    "anemia_code = 'C:/Users/Alan Jose/Downloads/mimic-iv-3.1/mimic-iv-3.1/hosp/preprocess/other medical/anemia_icd.csv'\n",
    "gerd_code = 'C:/Users/Alan Jose/Downloads/mimic-iv-3.1/mimic-iv-3.1/hosp/preprocess/other medical/gerd_icd.csv'"
   ]
  },
  {
   "cell_type": "code",
   "execution_count": 25,
   "id": "4548ba40-5e7d-42f5-90d2-f3b783701907",
   "metadata": {},
   "outputs": [
    {
     "name": "stdout",
     "output_type": "stream",
     "text": [
      "Merge selesai. Data disimpan dalam 'admission_with_osteoporosis.csv'.\n"
     ]
    }
   ],
   "source": [
    "#osteoporosis_code\n",
    "import pandas as pd\n",
    "\n",
    "# Load data\n",
    "admission_df = pd.read_csv(admissions)  # File admission\n",
    "icd_info_df = pd.read_csv(osteoporosis_code)  # File berisi ICD dan grup CVD\n",
    "# Pisahkan icd_code yang berderet (explode)\n",
    "admission_df['icd_code'] = admission_df['icd_code'].astype(str)  # Pastikan format string\n",
    "admission_exploded = admission_df.assign(icd_code=admission_df['icd_code'].str.split(',')).explode('icd_code')\n",
    "\n",
    "# Merge dengan data icd_info berdasarkan icd_code\n",
    "merged_df = admission_exploded.merge(icd_info_df[['icd_code', 'group_code']], on='icd_code', how='left')\n",
    "\n",
    "# Gabungkan kembali icd_code dan cvd_group_code per subject_id dan hadm_id\n",
    "final_df = merged_df.groupby(['subject_id', 'hadm_id'], as_index=False).agg({\n",
    "    'icd_code': lambda x: ','.join(sorted(set(x.dropna().astype(str)))),  # Gabungkan semua ICD Code\n",
    "    'group_code': lambda x: ','.join(sorted(set(x.dropna().astype(str))))  # Gabungkan semua CVD Group Code\n",
    "})\n",
    "\n",
    "# Simpan hasilnya ke file baru\n",
    "final_df.to_csv(\"C:/Users/Alan Jose/Downloads/mimic-iv-3.1/mimic-iv-3.1/hosp/preprocess/admission_with_osteoporosis.csv\", index=False)\n",
    "\n",
    "print(\"Merge selesai. Data disimpan dalam 'admission_with_osteoporosis.csv'.\")"
   ]
  },
  {
   "cell_type": "code",
   "execution_count": 26,
   "id": "b0052744-a658-463a-8a3f-903b691241bd",
   "metadata": {},
   "outputs": [
    {
     "name": "stdout",
     "output_type": "stream",
     "text": [
      "Merge selesai. Data disimpan dalam 'admission_with_mental.csv'.\n"
     ]
    }
   ],
   "source": [
    "#mental_code\n",
    "import pandas as pd\n",
    "\n",
    "# Load data\n",
    "admission_df = pd.read_csv(admissions)  # File admission\n",
    "icd_info_df = pd.read_csv(mental_code)  # File berisi ICD dan grup CVD\n",
    "# Pisahkan icd_code yang berderet (explode)\n",
    "admission_df['icd_code'] = admission_df['icd_code'].astype(str)  # Pastikan format string\n",
    "admission_exploded = admission_df.assign(icd_code=admission_df['icd_code'].str.split(',')).explode('icd_code')\n",
    "\n",
    "# Merge dengan data icd_info berdasarkan icd_code\n",
    "merged_df = admission_exploded.merge(icd_info_df[['icd_code', 'group_code']], on='icd_code', how='left')\n",
    "\n",
    "# Gabungkan kembali icd_code dan cvd_group_code per subject_id dan hadm_id\n",
    "final_df = merged_df.groupby(['subject_id', 'hadm_id'], as_index=False).agg({\n",
    "    'icd_code': lambda x: ','.join(sorted(set(x.dropna().astype(str)))),  # Gabungkan semua ICD Code\n",
    "    'group_code': lambda x: ','.join(sorted(set(x.dropna().astype(str))))  # Gabungkan semua CVD Group Code\n",
    "})\n",
    "\n",
    "# Simpan hasilnya ke file baru\n",
    "final_df.to_csv(\"C:/Users/Alan Jose/Downloads/mimic-iv-3.1/mimic-iv-3.1/hosp/preprocess/admission_with_mental.csv\", index=False)\n",
    "\n",
    "print(\"Merge selesai. Data disimpan dalam 'admission_with_mental.csv'.\")"
   ]
  },
  {
   "cell_type": "code",
   "execution_count": 27,
   "id": "e534a13d-05b8-47b5-b345-d3a706ab64d9",
   "metadata": {},
   "outputs": [
    {
     "name": "stdout",
     "output_type": "stream",
     "text": [
      "Merge selesai. Data disimpan dalam 'admission_with_anemia.csv'.\n"
     ]
    }
   ],
   "source": [
    "#anemia_code\n",
    "import pandas as pd\n",
    "\n",
    "# Load data\n",
    "admission_df = pd.read_csv(admissions)  # File admission\n",
    "icd_info_df = pd.read_csv(anemia_code)  # File berisi ICD dan grup CVD\n",
    "# Pisahkan icd_code yang berderet (explode)\n",
    "admission_df['icd_code'] = admission_df['icd_code'].astype(str)  # Pastikan format string\n",
    "admission_exploded = admission_df.assign(icd_code=admission_df['icd_code'].str.split(',')).explode('icd_code')\n",
    "\n",
    "# Merge dengan data icd_info berdasarkan icd_code\n",
    "merged_df = admission_exploded.merge(icd_info_df[['icd_code', 'group_code']], on='icd_code', how='left')\n",
    "\n",
    "# Gabungkan kembali icd_code dan cvd_group_code per subject_id dan hadm_id\n",
    "final_df = merged_df.groupby(['subject_id', 'hadm_id'], as_index=False).agg({\n",
    "    'icd_code': lambda x: ','.join(sorted(set(x.dropna().astype(str)))),  # Gabungkan semua ICD Code\n",
    "    'group_code': lambda x: ','.join(sorted(set(x.dropna().astype(str))))  # Gabungkan semua CVD Group Code\n",
    "})\n",
    "\n",
    "# Simpan hasilnya ke file baru\n",
    "final_df.to_csv(\"C:/Users/Alan Jose/Downloads/mimic-iv-3.1/mimic-iv-3.1/hosp/preprocess/admission_with_anemia.csv\", index=False)\n",
    "\n",
    "print(\"Merge selesai. Data disimpan dalam 'admission_with_anemia.csv'.\")"
   ]
  },
  {
   "cell_type": "code",
   "execution_count": 28,
   "id": "35d7a5a6-aaa4-474a-a9be-89238a4aeb41",
   "metadata": {},
   "outputs": [
    {
     "name": "stdout",
     "output_type": "stream",
     "text": [
      "Merge selesai. Data disimpan dalam 'admission_with_gerd.csv'.\n"
     ]
    }
   ],
   "source": [
    "#gerd_code\n",
    "import pandas as pd\n",
    "\n",
    "# Load data\n",
    "admission_df = pd.read_csv(admissions)  # File admission\n",
    "icd_info_df = pd.read_csv(gerd_code)  # File berisi ICD dan grup CVD\n",
    "# Pisahkan icd_code yang berderet (explode)\n",
    "admission_df['icd_code'] = admission_df['icd_code'].astype(str)  # Pastikan format string\n",
    "admission_exploded = admission_df.assign(icd_code=admission_df['icd_code'].str.split(',')).explode('icd_code')\n",
    "\n",
    "# Merge dengan data icd_info berdasarkan icd_code\n",
    "merged_df = admission_exploded.merge(icd_info_df[['icd_code', 'group_code']], on='icd_code', how='left')\n",
    "\n",
    "# Gabungkan kembali icd_code dan cvd_group_code per subject_id dan hadm_id\n",
    "final_df = merged_df.groupby(['subject_id', 'hadm_id'], as_index=False).agg({\n",
    "    'icd_code': lambda x: ','.join(sorted(set(x.dropna().astype(str)))),  # Gabungkan semua ICD Code\n",
    "    'group_code': lambda x: ','.join(sorted(set(x.dropna().astype(str))))  # Gabungkan semua CVD Group Code\n",
    "})\n",
    "\n",
    "# Simpan hasilnya ke file baru\n",
    "final_df.to_csv(\"C:/Users/Alan Jose/Downloads/mimic-iv-3.1/mimic-iv-3.1/hosp/preprocess/admission_with_gerd.csv\", index=False)\n",
    "\n",
    "print(\"Merge selesai. Data disimpan dalam 'admission_with_gerd.csv'.\")"
   ]
  },
  {
   "cell_type": "code",
   "execution_count": 29,
   "id": "529821b1-7e0e-4152-85f5-306d87d33c12",
   "metadata": {},
   "outputs": [],
   "source": [
    "# Load necessary data files\n",
    "early_code = 'C:/Users/Alan Jose/Downloads/mimic-iv-3.1/mimic-iv-3.1/hosp/preprocess/female sprecific factors/earlymenarche_icd.csv'\n",
    "premature_code = 'C:/Users/Alan Jose/Downloads/mimic-iv-3.1/mimic-iv-3.1/hosp/preprocess/female sprecific factors/premature_icd.csv'\n",
    "preeclampsia_code = 'C:/Users/Alan Jose/Downloads/mimic-iv-3.1/mimic-iv-3.1/hosp/preprocess/female sprecific factors/preeclampsia_icd.csv'\n",
    "pcos_code = 'C:/Users/Alan Jose/Downloads/mimic-iv-3.1/mimic-iv-3.1/hosp/preprocess/female sprecific factors/pcos_icd.csv'"
   ]
  },
  {
   "cell_type": "code",
   "execution_count": 30,
   "id": "f62b330c-6d44-4f22-b324-0cef47649088",
   "metadata": {},
   "outputs": [
    {
     "ename": "KeyError",
     "evalue": "'gender'",
     "output_type": "error",
     "traceback": [
      "\u001b[1;31m---------------------------------------------------------------------------\u001b[0m",
      "\u001b[1;31mKeyError\u001b[0m                                  Traceback (most recent call last)",
      "File \u001b[1;32m~\\anaconda3\\Lib\\site-packages\\pandas\\core\\indexes\\base.py:3791\u001b[0m, in \u001b[0;36mIndex.get_loc\u001b[1;34m(self, key)\u001b[0m\n\u001b[0;32m   3790\u001b[0m \u001b[38;5;28;01mtry\u001b[39;00m:\n\u001b[1;32m-> 3791\u001b[0m     \u001b[38;5;28;01mreturn\u001b[39;00m \u001b[38;5;28mself\u001b[39m\u001b[38;5;241m.\u001b[39m_engine\u001b[38;5;241m.\u001b[39mget_loc(casted_key)\n\u001b[0;32m   3792\u001b[0m \u001b[38;5;28;01mexcept\u001b[39;00m \u001b[38;5;167;01mKeyError\u001b[39;00m \u001b[38;5;28;01mas\u001b[39;00m err:\n",
      "File \u001b[1;32mindex.pyx:152\u001b[0m, in \u001b[0;36mpandas._libs.index.IndexEngine.get_loc\u001b[1;34m()\u001b[0m\n",
      "File \u001b[1;32mindex.pyx:181\u001b[0m, in \u001b[0;36mpandas._libs.index.IndexEngine.get_loc\u001b[1;34m()\u001b[0m\n",
      "File \u001b[1;32mpandas\\_libs\\hashtable_class_helper.pxi:7080\u001b[0m, in \u001b[0;36mpandas._libs.hashtable.PyObjectHashTable.get_item\u001b[1;34m()\u001b[0m\n",
      "File \u001b[1;32mpandas\\_libs\\hashtable_class_helper.pxi:7088\u001b[0m, in \u001b[0;36mpandas._libs.hashtable.PyObjectHashTable.get_item\u001b[1;34m()\u001b[0m\n",
      "\u001b[1;31mKeyError\u001b[0m: 'gender'",
      "\nThe above exception was the direct cause of the following exception:\n",
      "\u001b[1;31mKeyError\u001b[0m                                  Traceback (most recent call last)",
      "Cell \u001b[1;32mIn[30], line 16\u001b[0m\n\u001b[0;32m     13\u001b[0m     icd_info_df \u001b[38;5;241m=\u001b[39m pd\u001b[38;5;241m.\u001b[39mread_csv(early_code, encoding\u001b[38;5;241m=\u001b[39m\u001b[38;5;124m'\u001b[39m\u001b[38;5;124mlatin-1\u001b[39m\u001b[38;5;124m'\u001b[39m)\n\u001b[0;32m     15\u001b[0m \u001b[38;5;66;03m# Cek apakah ada pasien dengan gender 'F' (Female)\u001b[39;00m\n\u001b[1;32m---> 16\u001b[0m \u001b[38;5;28;01mif\u001b[39;00m \u001b[38;5;124m'\u001b[39m\u001b[38;5;124mF\u001b[39m\u001b[38;5;124m'\u001b[39m \u001b[38;5;129;01min\u001b[39;00m admission_df[\u001b[38;5;124m'\u001b[39m\u001b[38;5;124mgender\u001b[39m\u001b[38;5;124m'\u001b[39m]\u001b[38;5;241m.\u001b[39mvalues:\n\u001b[0;32m     17\u001b[0m     \u001b[38;5;28mprint\u001b[39m(\u001b[38;5;124m\"\u001b[39m\u001b[38;5;124mDitemukan pasien perempuan (F). Memproses data early menarch...\u001b[39m\u001b[38;5;124m\"\u001b[39m)\n\u001b[0;32m     19\u001b[0m     \u001b[38;5;66;03m# Filter hanya pasien perempuan\u001b[39;00m\n",
      "File \u001b[1;32m~\\anaconda3\\Lib\\site-packages\\pandas\\core\\frame.py:3893\u001b[0m, in \u001b[0;36mDataFrame.__getitem__\u001b[1;34m(self, key)\u001b[0m\n\u001b[0;32m   3891\u001b[0m \u001b[38;5;28;01mif\u001b[39;00m \u001b[38;5;28mself\u001b[39m\u001b[38;5;241m.\u001b[39mcolumns\u001b[38;5;241m.\u001b[39mnlevels \u001b[38;5;241m>\u001b[39m \u001b[38;5;241m1\u001b[39m:\n\u001b[0;32m   3892\u001b[0m     \u001b[38;5;28;01mreturn\u001b[39;00m \u001b[38;5;28mself\u001b[39m\u001b[38;5;241m.\u001b[39m_getitem_multilevel(key)\n\u001b[1;32m-> 3893\u001b[0m indexer \u001b[38;5;241m=\u001b[39m \u001b[38;5;28mself\u001b[39m\u001b[38;5;241m.\u001b[39mcolumns\u001b[38;5;241m.\u001b[39mget_loc(key)\n\u001b[0;32m   3894\u001b[0m \u001b[38;5;28;01mif\u001b[39;00m is_integer(indexer):\n\u001b[0;32m   3895\u001b[0m     indexer \u001b[38;5;241m=\u001b[39m [indexer]\n",
      "File \u001b[1;32m~\\anaconda3\\Lib\\site-packages\\pandas\\core\\indexes\\base.py:3798\u001b[0m, in \u001b[0;36mIndex.get_loc\u001b[1;34m(self, key)\u001b[0m\n\u001b[0;32m   3793\u001b[0m     \u001b[38;5;28;01mif\u001b[39;00m \u001b[38;5;28misinstance\u001b[39m(casted_key, \u001b[38;5;28mslice\u001b[39m) \u001b[38;5;129;01mor\u001b[39;00m (\n\u001b[0;32m   3794\u001b[0m         \u001b[38;5;28misinstance\u001b[39m(casted_key, abc\u001b[38;5;241m.\u001b[39mIterable)\n\u001b[0;32m   3795\u001b[0m         \u001b[38;5;129;01mand\u001b[39;00m \u001b[38;5;28many\u001b[39m(\u001b[38;5;28misinstance\u001b[39m(x, \u001b[38;5;28mslice\u001b[39m) \u001b[38;5;28;01mfor\u001b[39;00m x \u001b[38;5;129;01min\u001b[39;00m casted_key)\n\u001b[0;32m   3796\u001b[0m     ):\n\u001b[0;32m   3797\u001b[0m         \u001b[38;5;28;01mraise\u001b[39;00m InvalidIndexError(key)\n\u001b[1;32m-> 3798\u001b[0m     \u001b[38;5;28;01mraise\u001b[39;00m \u001b[38;5;167;01mKeyError\u001b[39;00m(key) \u001b[38;5;28;01mfrom\u001b[39;00m \u001b[38;5;21;01merr\u001b[39;00m\n\u001b[0;32m   3799\u001b[0m \u001b[38;5;28;01mexcept\u001b[39;00m \u001b[38;5;167;01mTypeError\u001b[39;00m:\n\u001b[0;32m   3800\u001b[0m     \u001b[38;5;66;03m# If we have a listlike key, _check_indexing_error will raise\u001b[39;00m\n\u001b[0;32m   3801\u001b[0m     \u001b[38;5;66;03m#  InvalidIndexError. Otherwise we fall through and re-raise\u001b[39;00m\n\u001b[0;32m   3802\u001b[0m     \u001b[38;5;66;03m#  the TypeError.\u001b[39;00m\n\u001b[0;32m   3803\u001b[0m     \u001b[38;5;28mself\u001b[39m\u001b[38;5;241m.\u001b[39m_check_indexing_error(key)\n",
      "\u001b[1;31mKeyError\u001b[0m: 'gender'"
     ]
    }
   ],
   "source": [
    "#early_code\n",
    "import pandas as pd\n",
    "\n",
    "# Load data dengan penanganan encoding\n",
    "try:\n",
    "    admission_df = pd.read_csv(admissions, encoding='utf-8')  # Coba UTF-8 dulu\n",
    "except UnicodeDecodeError:\n",
    "    admission_df = pd.read_csv(admissions, encoding='latin-1')  # Fallback ke Latin-1\n",
    "\n",
    "try:\n",
    "    icd_info_df = pd.read_csv(early_code, encoding='utf-8')\n",
    "except UnicodeDecodeError:\n",
    "    icd_info_df = pd.read_csv(early_code, encoding='latin-1')\n",
    "\n",
    "# Cek apakah ada pasien dengan gender 'F' (Female)\n",
    "if 'F' in admission_df['gender'].values:\n",
    "    print(\"Ditemukan pasien perempuan (F). Memproses data early menarch...\")\n",
    "    \n",
    "    # Filter hanya pasien perempuan\n",
    "    female_admission_df = admission_df[admission_df['gender'] == 'F'].copy()\n",
    "    \n",
    "    # Proses ICD code (explode dan merge)\n",
    "    female_admission_df['icd_code'] = female_admission_df['icd_code'].astype(str)\n",
    "    admission_exploded = female_admission_df.assign(\n",
    "        icd_code=female_admission_df['icd_code'].str.split(',')\n",
    "    ).explode('icd_code')\n",
    "\n",
    "    # Merge dengan data early menarch\n",
    "    merged_df = admission_exploded.merge(\n",
    "        icd_info_df[['icd_code', 'group_code']], \n",
    "        on='icd_code', \n",
    "        how='left'\n",
    "    )\n",
    "\n",
    "    # Gabungkan kembali per subject_id dan hadm_id\n",
    "    final_df = merged_df.groupby(['subject_id', 'hadm_id'], as_index=False).agg({\n",
    "        'icd_code': lambda x: ','.join(sorted(set(x.dropna().astype(str)))),\n",
    "        'group_code': lambda x: ','.join(sorted(set(x.dropna().astype(str))))\n",
    "    })\n",
    "\n",
    "    # Simpan hasil\n",
    "    final_df.to_csv(\"C:/Users/Alan Jose/Downloads/mimic-iv-3.1/mimic-iv-3.1/hosp/preprocess/admission_with_early menarch_F_only.csv\", index=False)\n",
    "    print(\"Data Early menarch untuk pasien perempuan disimpan di 'admission_with_early menarch_F_only.csv'.\")\n",
    "\n",
    "else:\n",
    "    print(\"Tidak ada pasien perempuan (F) dalam data. Proses dibatalkan.\")"
   ]
  },
  {
   "cell_type": "code",
   "execution_count": null,
   "id": "b0fbe02b-4fa4-4f39-af9f-bc5f02c5d3df",
   "metadata": {},
   "outputs": [],
   "source": [
    "#premature_code\n",
    "import pandas as pd\n",
    "\n",
    "# Load data dengan penanganan encoding\n",
    "try:\n",
    "    admission_df = pd.read_csv(admissions, encoding='utf-8')  # Coba UTF-8 dulu\n",
    "except UnicodeDecodeError:\n",
    "    admission_df = pd.read_csv(admissions, encoding='latin-1')  # Fallback ke Latin-1\n",
    "\n",
    "try:\n",
    "    icd_info_df = pd.read_csv(premature_code, encoding='utf-8')\n",
    "except UnicodeDecodeError:\n",
    "    icd_info_df = pd.read_csv(premature_code, encoding='latin-1')\n",
    "\n",
    "# Cek apakah ada pasien dengan gender 'F' (Female)\n",
    "if 'F' in admission_df['gender'].values:\n",
    "    print(\"Ditemukan pasien perempuan (F). Memproses data premature...\")\n",
    "    \n",
    "    # Filter hanya pasien perempuan\n",
    "    female_admission_df = admission_df[admission_df['gender'] == 'F'].copy()\n",
    "    \n",
    "    # Proses ICD code (explode dan merge)\n",
    "    female_admission_df['icd_code'] = female_admission_df['icd_code'].astype(str)\n",
    "    admission_exploded = female_admission_df.assign(\n",
    "        icd_code=female_admission_df['icd_code'].str.split(',')\n",
    "    ).explode('icd_code')\n",
    "\n",
    "    # Merge dengan data early menarch\n",
    "    merged_df = admission_exploded.merge(\n",
    "        icd_info_df[['icd_code', 'group_code']], \n",
    "        on='icd_code', \n",
    "        how='left'\n",
    "    )\n",
    "\n",
    "    # Gabungkan kembali per subject_id dan hadm_id\n",
    "    final_df = merged_df.groupby(['subject_id', 'hadm_id'], as_index=False).agg({\n",
    "        'icd_code': lambda x: ','.join(sorted(set(x.dropna().astype(str)))),\n",
    "        'group_code': lambda x: ','.join(sorted(set(x.dropna().astype(str))))\n",
    "    })\n",
    "\n",
    "    # Simpan hasil\n",
    "    final_df.to_csv(\"C:/Users/Alan Jose/Downloads/mimic-iv-3.1/mimic-iv-3.1/hosp/preprocess/admission_with_premature_F_only.csv\", index=False)\n",
    "    print(\"Data Early menarch untuk pasien perempuan disimpan di 'admission_with_premature_F_only.csv'.\")\n",
    "\n",
    "else:\n",
    "    print(\"Tidak ada pasien perempuan (F) dalam data. Proses dibatalkan.\")"
   ]
  },
  {
   "cell_type": "code",
   "execution_count": null,
   "id": "7847e7f8-a6c8-44ec-bd71-248dc7f078c6",
   "metadata": {},
   "outputs": [],
   "source": [
    "#preeclampsia_code\n",
    "import pandas as pd\n",
    "\n",
    "# Load data dengan penanganan encoding\n",
    "try:\n",
    "    admission_df = pd.read_csv(admissions, encoding='utf-8')  # Coba UTF-8 dulu\n",
    "except UnicodeDecodeError:\n",
    "    admission_df = pd.read_csv(admissions, encoding='latin-1')  # Fallback ke Latin-1\n",
    "\n",
    "try:\n",
    "    icd_info_df = pd.read_csv(preeclampsia_code, encoding='utf-8')\n",
    "except UnicodeDecodeError:\n",
    "    icd_info_df = pd.read_csv(preeclampsia_code, encoding='latin-1')\n",
    "\n",
    "# Cek apakah ada pasien dengan gender 'F' (Female)\n",
    "if 'F' in admission_df['gender'].values:\n",
    "    print(\"Ditemukan pasien perempuan (F). Memproses data premature...\")\n",
    "    \n",
    "    # Filter hanya pasien perempuan\n",
    "    female_admission_df = admission_df[admission_df['gender'] == 'F'].copy()\n",
    "    \n",
    "    # Proses ICD code (explode dan merge)\n",
    "    female_admission_df['icd_code'] = female_admission_df['icd_code'].astype(str)\n",
    "    admission_exploded = female_admission_df.assign(\n",
    "        icd_code=female_admission_df['icd_code'].str.split(',')\n",
    "    ).explode('icd_code')\n",
    "\n",
    "    # Merge dengan data early menarch\n",
    "    merged_df = admission_exploded.merge(\n",
    "        icd_info_df[['icd_code', 'group_code']], \n",
    "        on='icd_code', \n",
    "        how='left'\n",
    "    )\n",
    "\n",
    "    # Gabungkan kembali per subject_id dan hadm_id\n",
    "    final_df = merged_df.groupby(['subject_id', 'hadm_id'], as_index=False).agg({\n",
    "        'icd_code': lambda x: ','.join(sorted(set(x.dropna().astype(str)))),\n",
    "        'group_code': lambda x: ','.join(sorted(set(x.dropna().astype(str))))\n",
    "    })\n",
    "\n",
    "    # Simpan hasil\n",
    "    final_df.to_csv(\"C:/Users/Alan Jose/Downloads/mimic-iv-3.1/mimic-iv-3.1/hosp/preprocess/admission_with_preeclampsia_F_only.csv\", index=False)\n",
    "    print(\"Data Early menarch untuk pasien perempuan disimpan di 'admission_with_preeclampsia_F_only.csv'.\")\n",
    "\n",
    "else:\n",
    "    print(\"Tidak ada pasien perempuan (F) dalam data. Proses dibatalkan.\")"
   ]
  },
  {
   "cell_type": "code",
   "execution_count": null,
   "id": "0c0f6d20-9515-4952-970b-177e844b0cc9",
   "metadata": {},
   "outputs": [],
   "source": [
    "#pcos_code\n",
    "import pandas as pd\n",
    "\n",
    "# Load data dengan penanganan encoding\n",
    "try:\n",
    "    admission_df = pd.read_csv(admissions, encoding='utf-8')  # Coba UTF-8 dulu\n",
    "except UnicodeDecodeError:\n",
    "    admission_df = pd.read_csv(admissions, encoding='latin-1')  # Fallback ke Latin-1\n",
    "\n",
    "try:\n",
    "    icd_info_df = pd.read_csv(pcos_code, encoding='utf-8')\n",
    "except UnicodeDecodeError:\n",
    "    icd_info_df = pd.read_csv(pcos_code, encoding='latin-1')\n",
    "\n",
    "# Cek apakah ada pasien dengan gender 'F' (Female)\n",
    "if 'F' in admission_df['gender'].values:\n",
    "    print(\"Ditemukan pasien perempuan (F). Memproses data premature...\")\n",
    "    \n",
    "    # Filter hanya pasien perempuan\n",
    "    female_admission_df = admission_df[admission_df['gender'] == 'F'].copy()\n",
    "    \n",
    "    # Proses ICD code (explode dan merge)\n",
    "    female_admission_df['icd_code'] = female_admission_df['icd_code'].astype(str)\n",
    "    admission_exploded = female_admission_df.assign(\n",
    "        icd_code=female_admission_df['icd_code'].str.split(',')\n",
    "    ).explode('icd_code')\n",
    "\n",
    "    # Merge dengan data early menarch\n",
    "    merged_df = admission_exploded.merge(\n",
    "        icd_info_df[['icd_code', 'group_code']], \n",
    "        on='icd_code', \n",
    "        how='left'\n",
    "    )\n",
    "\n",
    "    # Gabungkan kembali per subject_id dan hadm_id\n",
    "    final_df = merged_df.groupby(['subject_id', 'hadm_id'], as_index=False).agg({\n",
    "        'icd_code': lambda x: ','.join(sorted(set(x.dropna().astype(str)))),\n",
    "        'group_code': lambda x: ','.join(sorted(set(x.dropna().astype(str))))\n",
    "    })\n",
    "\n",
    "    # Simpan hasil\n",
    "    final_df.to_csv(\"C:/Users/Alan Jose/Downloads/mimic-iv-3.1/mimic-iv-3.1/hosp/preprocess/admission_with_pcos_F_only.csv\", index=False)\n",
    "    print(\"Data Early menarch untuk pasien perempuan disimpan di 'admission_with_pcos_F_only.csv'.\")\n",
    "\n",
    "else:\n",
    "    print(\"Tidak ada pasien perempuan (F) dalam data. Proses dibatalkan.\")"
   ]
  },
  {
   "cell_type": "code",
   "execution_count": null,
   "id": "e7cfb481-024c-49e9-a3ca-eccd4fa75763",
   "metadata": {},
   "outputs": [],
   "source": []
  }
 ],
 "metadata": {
  "kernelspec": {
   "display_name": "Python 3 (ipykernel)",
   "language": "python",
   "name": "python3"
  },
  "language_info": {
   "codemirror_mode": {
    "name": "ipython",
    "version": 3
   },
   "file_extension": ".py",
   "mimetype": "text/x-python",
   "name": "python",
   "nbconvert_exporter": "python",
   "pygments_lexer": "ipython3",
   "version": "3.11.7"
  }
 },
 "nbformat": 4,
 "nbformat_minor": 5
}
